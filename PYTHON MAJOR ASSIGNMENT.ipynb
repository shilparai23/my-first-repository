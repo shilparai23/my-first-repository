{
 "cells": [
  {
   "cell_type": "markdown",
   "id": "32cf7266",
   "metadata": {},
   "source": [
    "1)Find the datatype of these two declaration :x =5 y =\"John\"\n"
   ]
  },
  {
   "cell_type": "code",
   "execution_count": 6,
   "id": "3cf69269",
   "metadata": {},
   "outputs": [
    {
     "name": "stdout",
     "output_type": "stream",
     "text": [
      "5 John\n",
      "<class 'int'>\n",
      "<class 'str'>\n"
     ]
    }
   ],
   "source": [
    "x=5\n",
    "y=\"John\"\n",
    "print(x,y)\n",
    "print(type(x))\n",
    "print(type(y))"
   ]
  },
  {
   "cell_type": "markdown",
   "id": "9e83d05e",
   "metadata": {},
   "source": [
    "2)Check whether the following syntax is valid or invalid for naming a variable. :\n",
    "Example: abc=100 #valid syntax\n",
    "i)3a=10  \n",
    "ii)@abc=10\n",
    "iii)a100=100\n",
    "iv)_a984_=100\n",
    "v)a9967$=100\n",
    "vi)xyz-2=10"
   ]
  },
  {
   "cell_type": "code",
   "execution_count": null,
   "id": "780fea5c",
   "metadata": {},
   "outputs": [],
   "source": [
    "i)3a=10         #invalid syntax\n",
    "ii)@abc=10      #invalid syntax\n",
    "iii)a100=100    #valid syntax\n",
    "iv)_a984_=100   #valid syntax\n",
    "v)a9967$=100    #invalid syntax\n",
    "vi)xyz-2=10     #invalid syntax"
   ]
  },
  {
   "cell_type": "markdown",
   "id": "79a74c60",
   "metadata": {},
   "source": [
    "3)Take the user input to print the current date"
   ]
  },
  {
   "cell_type": "code",
   "execution_count": 10,
   "id": "82f5b987",
   "metadata": {},
   "outputs": [
    {
     "name": "stdout",
     "output_type": "stream",
     "text": [
      "Today's date: 2022-11-11\n"
     ]
    }
   ],
   "source": [
    "from datetime import date\n",
    "\n",
    "today = date.today()\n",
    "print(\"Today's date:\", today)"
   ]
  },
  {
   "cell_type": "markdown",
   "id": "ff3d9f4b",
   "metadata": {},
   "source": [
    "4)Check if element exists in list in Python :\n",
    "list = test_list = [1, 6, 3, 5, 3, 4]\n",
    "Check if 3 exist or not.\n",
    "Check if 9 exists or not."
   ]
  },
  {
   "cell_type": "code",
   "execution_count": 16,
   "id": "22c95997",
   "metadata": {},
   "outputs": [
    {
     "name": "stdout",
     "output_type": "stream",
     "text": [
      "exist\n"
     ]
    }
   ],
   "source": [
    "# python code to Check if element exists in list or not\n",
    " \n",
    "lst=[ 1, 6, 3, 5, 3, 4 ]\n",
    "#checking if element 7 is present\n",
    "# in the given list or not\n",
    "i=3\n",
    "# if element present then return\n",
    "# exist otherwise not exist\n",
    "if i in lst:\n",
    "    print(\"exist\")\n",
    "else:\n",
    "    print(\"not exist\")\n",
    "    \n"
   ]
  },
  {
   "cell_type": "code",
   "execution_count": 17,
   "id": "43960c49",
   "metadata": {},
   "outputs": [
    {
     "name": "stdout",
     "output_type": "stream",
     "text": [
      "not exist\n"
     ]
    }
   ],
   "source": [
    "# python code to Check if element exists in list or not\n",
    " \n",
    "lst=[ 1, 6, 3, 5, 3, 4 ]\n",
    "#checking if element 7 is present\n",
    "# in the given list or not\n",
    "i=9\n",
    "# if element present then return\n",
    "# exist otherwise not exist\n",
    "if i in lst:\n",
    "    print(\"exist\")\n",
    "else:\n",
    "    print(\"not exist\")"
   ]
  },
  {
   "cell_type": "markdown",
   "id": "766adea1",
   "metadata": {},
   "source": [
    "5)what is the output of the following code :a)print 9//2\n",
    "b)print 9%2\n"
   ]
  },
  {
   "cell_type": "code",
   "execution_count": 19,
   "id": "ac0395f9",
   "metadata": {},
   "outputs": [
    {
     "name": "stdout",
     "output_type": "stream",
     "text": [
      "4\n",
      "1\n"
     ]
    }
   ],
   "source": [
    "a=9\n",
    "b=2\n",
    "print(a//b)\n",
    "print(a%b)"
   ]
  },
  {
   "cell_type": "markdown",
   "id": "eab26dcd",
   "metadata": {},
   "source": [
    "6)Print First 10 natural numbers using a while loop."
   ]
  },
  {
   "cell_type": "code",
   "execution_count": 20,
   "id": "2176a809",
   "metadata": {},
   "outputs": [
    {
     "name": "stdout",
     "output_type": "stream",
     "text": [
      "1\n",
      "2\n",
      "3\n",
      "4\n",
      "5\n",
      "6\n",
      "7\n",
      "8\n",
      "9\n",
      "10\n"
     ]
    }
   ],
   "source": [
    "# program 1: Print first 10 natural numbers\n",
    "i = 1\n",
    "while i <= 10:\n",
    "    print(i)\n",
    "    i +=1"
   ]
  },
  {
   "cell_type": "markdown",
   "id": "c64e7204",
   "metadata": {},
   "source": [
    "7)Write a program to accept a number from a user and calculate the sum of all numbers from 1 to a given number.For example, if the user entered 10 the output should be 55 (1+2+3+4+5+6+7+8+9+10)"
   ]
  },
  {
   "cell_type": "code",
   "execution_count": null,
   "id": "d41278e7",
   "metadata": {},
   "outputs": [],
   "source": [
    "# s: store sum of all numbers\n",
    "s = 0\n",
    "n = int(input(\"Enter number \"))\n",
    "# run loop n times\n",
    "# stop: n+1 (because range never include stop number in result)\n",
    "for i in range(1, n + 1, 1):\n",
    "    # add current number to sum variable\n",
    "    s += i\n",
    "    print(\"\\n\")\n",
    "    print(\"Sum is: \", s)"
   ]
  },
  {
   "cell_type": "markdown",
   "id": "f2451973",
   "metadata": {},
   "source": [
    "8)Write a python program which iterates the integers from 1 to 60. for multiples of three print of \"fizz\" instead of the numbers and for the multiples of five prints \"Buzz\". for numbers which are multiples of both three and five print \"fizzBuzz\"\n",
    "Example:\n",
    "fizzBuzz\n",
    "1\n",
    "2\n",
    "fizz\n",
    "4\n",
    "buzz\n"
   ]
  },
  {
   "cell_type": "code",
   "execution_count": null,
   "id": "f8130f22",
   "metadata": {},
   "outputs": [],
   "source": [
    "for fizzbuzz in range(51)\n",
    ":if fizzbuzz % 3 == 0 and fizzbuzz % 5 == 0:\n",
    "        print(\"fizzbuzz\")\n",
    "        continue\n",
    "        elif fizzbuzz % 3 == 0:\n",
    "            print(\"fizz\")\n",
    "            continue\n",
    "            elif fizzbuzz % 5 == 0:\n",
    "                print(\"buzz\")\n",
    "                continue"
   ]
  },
  {
   "cell_type": "code",
   "execution_count": null,
   "id": "e4f47cb4",
   "metadata": {},
   "outputs": [],
   "source": []
  }
 ],
 "metadata": {
  "kernelspec": {
   "display_name": "Python 3 (ipykernel)",
   "language": "python",
   "name": "python3"
  },
  "language_info": {
   "codemirror_mode": {
    "name": "ipython",
    "version": 3
   },
   "file_extension": ".py",
   "mimetype": "text/x-python",
   "name": "python",
   "nbconvert_exporter": "python",
   "pygments_lexer": "ipython3",
   "version": "3.9.13"
  }
 },
 "nbformat": 4,
 "nbformat_minor": 5
}
